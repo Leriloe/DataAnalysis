{
  "nbformat": 4,
  "nbformat_minor": 0,
  "metadata": {
    "kernelspec": {
      "display_name": "Python 3",
      "language": "python",
      "name": "python3"
    },
    "language_info": {
      "codemirror_mode": {
        "name": "ipython",
        "version": 3
      },
      "file_extension": ".py",
      "mimetype": "text/x-python",
      "name": "python",
      "nbconvert_exporter": "python",
      "pygments_lexer": "ipython3",
      "version": "3.8.8"
    },
    "colab": {
      "name": "2. Aggregating Data.ipynb",
      "provenance": [],
      "toc_visible": true,
      "include_colab_link": true
    }
  },
  "cells": [
    {
      "cell_type": "markdown",
      "metadata": {
        "id": "view-in-github",
        "colab_type": "text"
      },
      "source": [
        "<a href=\"https://colab.research.google.com/github/Leriloe/DataAnalysis/blob/main/2_Aggregating_Data.ipynb\" target=\"_parent\"><img src=\"https://colab.research.google.com/assets/colab-badge.svg\" alt=\"Open In Colab\"/></a>"
      ]
    },
    {
      "cell_type": "markdown",
      "metadata": {
        "id": "2a-pEwNw9oPR"
      },
      "source": [
        "# <span style='color:blue'> <center>Data Manipulation with Pandas</center> </span>\n",
        "## **Chapter 2.** Aggregating Data \n",
        "#### by **Ivan Alducin**\n",
        "<p><img src=\"https://cdn.datafloq.com/cache/blog_pictures/878x531/what-does-clustering-in-data-mining-mean.jpg\" width=\"1250\"</p>"
      ]
    },
    {
      "cell_type": "markdown",
      "metadata": {
        "id": "lZVAcQ8F9oPW"
      },
      "source": [
        "## Funciones estadísticas\n",
        "<p><i>Summary statistics</i> o la estadística de resumen es el conjunto de medidas cuantitativas que nos permiten visualizar el comportamiento de una variable. Por ejemplo, la desviación media, mediana, mínimo, máxima y estándar son estadísticas de resumen. El cálculo de estas nos permite tener una mejor comprensión y entendimiento de nuestro conjunto de datos, incluso si es muy grande.</p>"
      ]
    },
    {
      "cell_type": "code",
      "metadata": {
        "id": "CjCzXuue9oPX"
      },
      "source": [
        "# Importar pandas y numpy\n",
        "\n",
        "import pandas as pd\n",
        "import numpy as np"
      ],
      "execution_count": 2,
      "outputs": []
    },
    {
      "cell_type": "code",
      "metadata": {
        "colab": {
          "resources": {
            "http://localhost:8080/nbextensions/google.colab/files.js": {
              "data": "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",
              "ok": true,
              "headers": [
                [
                  "content-type",
                  "application/javascript"
                ]
              ],
              "status": 200,
              "status_text": ""
            }
          },
          "base_uri": "https://localhost:8080/",
          "height": 73
        },
        "id": "YgohVnhx9oPY",
        "outputId": "90ed83ff-7dba-4f71-bf41-4aabc20816b3"
      },
      "source": [
        "# Importar el archivo csv sales a Google Colab: se abre botón para cargar archivo.\n",
        "from google.colab import files\n",
        "my_up = files.upload()"
      ],
      "execution_count": 1,
      "outputs": [
        {
          "output_type": "display_data",
          "data": {
            "text/html": [
              "\n",
              "     <input type=\"file\" id=\"files-dc6ffef7-b661-4692-bcfe-b959a0544689\" name=\"files[]\" multiple disabled\n",
              "        style=\"border:none\" />\n",
              "     <output id=\"result-dc6ffef7-b661-4692-bcfe-b959a0544689\">\n",
              "      Upload widget is only available when the cell has been executed in the\n",
              "      current browser session. Please rerun this cell to enable.\n",
              "      </output>\n",
              "      <script src=\"/nbextensions/google.colab/files.js\"></script> "
            ],
            "text/plain": [
              "<IPython.core.display.HTML object>"
            ]
          },
          "metadata": {}
        },
        {
          "output_type": "stream",
          "name": "stdout",
          "text": [
            "Saving sales.csv to sales.csv\n"
          ]
        }
      ]
    },
    {
      "cell_type": "code",
      "metadata": {
        "id": "S71k9jdSG0cL"
      },
      "source": [
        "# Importar el archivo csv sales a un DataFrame\n",
        "df = pd.read_csv('sales.csv')"
      ],
      "execution_count": 3,
      "outputs": []
    },
    {
      "cell_type": "code",
      "metadata": {
        "colab": {
          "base_uri": "https://localhost:8080/",
          "height": 226
        },
        "id": "kvgRYP909oPZ",
        "outputId": "8aa1a788-6ecc-4a75-ef35-1c677215c422"
      },
      "source": [
        "# Imprimir las primeras 5 lineas de mi DataFrame\n",
        "df.head()"
      ],
      "execution_count": 4,
      "outputs": [
        {
          "output_type": "execute_result",
          "data": {
            "text/html": [
              "<div>\n",
              "<style scoped>\n",
              "    .dataframe tbody tr th:only-of-type {\n",
              "        vertical-align: middle;\n",
              "    }\n",
              "\n",
              "    .dataframe tbody tr th {\n",
              "        vertical-align: top;\n",
              "    }\n",
              "\n",
              "    .dataframe thead th {\n",
              "        text-align: right;\n",
              "    }\n",
              "</style>\n",
              "<table border=\"1\" class=\"dataframe\">\n",
              "  <thead>\n",
              "    <tr style=\"text-align: right;\">\n",
              "      <th></th>\n",
              "      <th>store</th>\n",
              "      <th>type</th>\n",
              "      <th>department</th>\n",
              "      <th>date</th>\n",
              "      <th>weekly_sales</th>\n",
              "      <th>is_holiday</th>\n",
              "      <th>temperature_c</th>\n",
              "      <th>fuel_price_usd_per_l</th>\n",
              "      <th>unemployment</th>\n",
              "    </tr>\n",
              "  </thead>\n",
              "  <tbody>\n",
              "    <tr>\n",
              "      <th>0</th>\n",
              "      <td>1</td>\n",
              "      <td>A</td>\n",
              "      <td>1</td>\n",
              "      <td>05/02/2018</td>\n",
              "      <td>24924.50</td>\n",
              "      <td>False</td>\n",
              "      <td>5.727778</td>\n",
              "      <td>0.679451</td>\n",
              "      <td>8.106</td>\n",
              "    </tr>\n",
              "    <tr>\n",
              "      <th>1</th>\n",
              "      <td>1</td>\n",
              "      <td>C</td>\n",
              "      <td>1</td>\n",
              "      <td>05/03/2018</td>\n",
              "      <td>21827.90</td>\n",
              "      <td>False</td>\n",
              "      <td>8.055556</td>\n",
              "      <td>0.693452</td>\n",
              "      <td>8.106</td>\n",
              "    </tr>\n",
              "    <tr>\n",
              "      <th>2</th>\n",
              "      <td>1</td>\n",
              "      <td>A</td>\n",
              "      <td>1</td>\n",
              "      <td>02/04/2018</td>\n",
              "      <td>57258.43</td>\n",
              "      <td>False</td>\n",
              "      <td>16.816667</td>\n",
              "      <td>0.718284</td>\n",
              "      <td>7.808</td>\n",
              "    </tr>\n",
              "    <tr>\n",
              "      <th>3</th>\n",
              "      <td>1</td>\n",
              "      <td>A</td>\n",
              "      <td>1</td>\n",
              "      <td>07/05/2018</td>\n",
              "      <td>17413.94</td>\n",
              "      <td>False</td>\n",
              "      <td>22.527778</td>\n",
              "      <td>0.748928</td>\n",
              "      <td>7.808</td>\n",
              "    </tr>\n",
              "    <tr>\n",
              "      <th>4</th>\n",
              "      <td>1</td>\n",
              "      <td>A</td>\n",
              "      <td>1</td>\n",
              "      <td>04/06/2018</td>\n",
              "      <td>17558.09</td>\n",
              "      <td>False</td>\n",
              "      <td>27.050000</td>\n",
              "      <td>0.714586</td>\n",
              "      <td>7.808</td>\n",
              "    </tr>\n",
              "  </tbody>\n",
              "</table>\n",
              "</div>"
            ],
            "text/plain": [
              "   store type  department  ... temperature_c  fuel_price_usd_per_l  unemployment\n",
              "0      1    A           1  ...      5.727778              0.679451         8.106\n",
              "1      1    C           1  ...      8.055556              0.693452         8.106\n",
              "2      1    A           1  ...     16.816667              0.718284         7.808\n",
              "3      1    A           1  ...     22.527778              0.748928         7.808\n",
              "4      1    A           1  ...     27.050000              0.714586         7.808\n",
              "\n",
              "[5 rows x 9 columns]"
            ]
          },
          "metadata": {},
          "execution_count": 4
        }
      ]
    },
    {
      "cell_type": "code",
      "metadata": {
        "colab": {
          "base_uri": "https://localhost:8080/"
        },
        "id": "0_cSnb2b9oPa",
        "outputId": "c9f9bda8-bb93-4fcd-8f8f-ec7a7b8a695e"
      },
      "source": [
        "# Imprimr la informacion de los campos de mi DataFrame\n",
        "df.info()"
      ],
      "execution_count": 6,
      "outputs": [
        {
          "output_type": "stream",
          "name": "stdout",
          "text": [
            "<class 'pandas.core.frame.DataFrame'>\n",
            "RangeIndex: 10774 entries, 0 to 10773\n",
            "Data columns (total 9 columns):\n",
            " #   Column                Non-Null Count  Dtype  \n",
            "---  ------                --------------  -----  \n",
            " 0   store                 10774 non-null  int64  \n",
            " 1   type                  10774 non-null  object \n",
            " 2   department            10774 non-null  int64  \n",
            " 3   date                  10774 non-null  object \n",
            " 4   weekly_sales          10774 non-null  float64\n",
            " 5   is_holiday            10774 non-null  bool   \n",
            " 6   temperature_c         10774 non-null  float64\n",
            " 7   fuel_price_usd_per_l  10774 non-null  float64\n",
            " 8   unemployment          10774 non-null  float64\n",
            "dtypes: bool(1), float64(4), int64(2), object(2)\n",
            "memory usage: 684.0+ KB\n"
          ]
        }
      ]
    },
    {
      "cell_type": "code",
      "metadata": {
        "colab": {
          "base_uri": "https://localhost:8080/"
        },
        "id": "9My3zZji9oPb",
        "outputId": "6073b927-d99a-4bf4-f421-564ffaf4e205"
      },
      "source": [
        "# Calcular el promedio de las venta semanales\n",
        "df['weekly_sales'].mean()"
      ],
      "execution_count": 8,
      "outputs": [
        {
          "output_type": "execute_result",
          "data": {
            "text/plain": [
              "23843.950148505668"
            ]
          },
          "metadata": {},
          "execution_count": 8
        }
      ]
    },
    {
      "cell_type": "code",
      "metadata": {
        "colab": {
          "base_uri": "https://localhost:8080/"
        },
        "id": "atnxnjp09oPb",
        "outputId": "7e9ec305-7f55-489d-ae2d-d7abaca574d1"
      },
      "source": [
        "# Calcular la mediana de las ventas semanales\n",
        "df['weekly_sales'].median()"
      ],
      "execution_count": 10,
      "outputs": [
        {
          "output_type": "execute_result",
          "data": {
            "text/plain": [
              "12049.064999999999"
            ]
          },
          "metadata": {},
          "execution_count": 10
        }
      ]
    },
    {
      "cell_type": "code",
      "metadata": {
        "colab": {
          "base_uri": "https://localhost:8080/",
          "height": 35
        },
        "id": "p_HXuIiV9oPc",
        "outputId": "4bb717d9-c36e-451a-8f7b-3a3bf6c9ccac"
      },
      "source": [
        "# Calcular la última fecha de venta: está mal, te da de 2018 pero hay año 2020. \n",
        "df['date'].max()"
      ],
      "execution_count": 11,
      "outputs": [
        {
          "output_type": "execute_result",
          "data": {
            "application/vnd.google.colaboratory.intrinsic+json": {
              "type": "string"
            },
            "text/plain": [
              "'31/12/2018'"
            ]
          },
          "metadata": {},
          "execution_count": 11
        }
      ]
    },
    {
      "cell_type": "code",
      "metadata": {
        "colab": {
          "base_uri": "https://localhost:8080/"
        },
        "id": "SbgE3nndKcCM",
        "outputId": "42cc241c-0b8c-46da-acc5-3a1bb2516140"
      },
      "source": [
        "# Hay que cambiar el formato de objeto de la fecha para obtener el mismo valor.\n",
        "df['date'] = pd.to_datetime(df['date'])\n",
        "df.info()\n",
        "df['date'].max()"
      ],
      "execution_count": 14,
      "outputs": [
        {
          "output_type": "stream",
          "name": "stdout",
          "text": [
            "<class 'pandas.core.frame.DataFrame'>\n",
            "RangeIndex: 10774 entries, 0 to 10773\n",
            "Data columns (total 9 columns):\n",
            " #   Column                Non-Null Count  Dtype         \n",
            "---  ------                --------------  -----         \n",
            " 0   store                 10774 non-null  int64         \n",
            " 1   type                  10774 non-null  object        \n",
            " 2   department            10774 non-null  int64         \n",
            " 3   date                  10774 non-null  datetime64[ns]\n",
            " 4   weekly_sales          10774 non-null  float64       \n",
            " 5   is_holiday            10774 non-null  bool          \n",
            " 6   temperature_c         10774 non-null  float64       \n",
            " 7   fuel_price_usd_per_l  10774 non-null  float64       \n",
            " 8   unemployment          10774 non-null  float64       \n",
            "dtypes: bool(1), datetime64[ns](1), float64(4), int64(2), object(1)\n",
            "memory usage: 684.0+ KB\n"
          ]
        },
        {
          "output_type": "execute_result",
          "data": {
            "text/plain": [
              "Timestamp('2020-12-10 00:00:00')"
            ]
          },
          "metadata": {},
          "execution_count": 14
        }
      ]
    },
    {
      "cell_type": "markdown",
      "metadata": {
        "id": "XRB_P3ImKzZ5"
      },
      "source": [
        ""
      ]
    },
    {
      "cell_type": "code",
      "metadata": {
        "colab": {
          "base_uri": "https://localhost:8080/"
        },
        "id": "fQDaPHDK9oPd",
        "outputId": "ae80b6e7-bd35-4151-c38d-ac1b0f2fa6f5"
      },
      "source": [
        "# Calcular la fecha en la que tuve mi primer venta\n",
        "df['date'].min()"
      ],
      "execution_count": 15,
      "outputs": [
        {
          "output_type": "execute_result",
          "data": {
            "text/plain": [
              "Timestamp('2018-01-10 00:00:00')"
            ]
          },
          "metadata": {},
          "execution_count": 15
        }
      ]
    },
    {
      "cell_type": "markdown",
      "metadata": {
        "id": "00vnnFGh9oPd"
      },
      "source": [
        "## Multiples funciones\n",
        "<p>El método <code>.agg()</code> nos permite aplicar nuestras propias funciones personalizadas a un DataFrame, así como también aplicar funciones a más de una columna a la vez, lo que hace que los cálculos sean súper eficientes. Lo anterior se hace usando la siguiente nomenclatura: <code>df['columna'].agg([funcion1, funcion2])</code>\n",
        "    \n",
        "En la función personalizada para este ejercicio, <code>IQR</code> nos muestra el rango intercuartil, que es el percentil 75 menos el percentil 25. Es una alternativa a la desviación estándar que resulta útil si sus datos contienen valores atípicos.</p>\n",
        "<img src=\"https://upload.wikimedia.org/wikipedia/commons/thumb/1/1a/Boxplot_vs_PDF.svg/1200px-Boxplot_vs_PDF.svg.png\" width=\"450\">"
      ]
    },
    {
      "cell_type": "code",
      "metadata": {
        "colab": {
          "base_uri": "https://localhost:8080/"
        },
        "id": "2DmJ2tRe9oPe",
        "outputId": "fef07362-062d-4ad0-826b-c0405f79aacd"
      },
      "source": [
        "# Funcion para calcular IQR.\n",
        "def iqr(column):\n",
        "    return column.quantile(0.75) - column.quantile(0.25)\n",
        "\n",
        "# Calcular el IQR de la columna 'temperature_c' \n",
        "df['temperature_c'].agg(iqr)"
      ],
      "execution_count": 16,
      "outputs": [
        {
          "output_type": "execute_result",
          "data": {
            "text/plain": [
              "16.583333337000003"
            ]
          },
          "metadata": {},
          "execution_count": 16
        }
      ]
    },
    {
      "cell_type": "code",
      "metadata": {
        "colab": {
          "base_uri": "https://localhost:8080/"
        },
        "id": "c3yV97Sy9oPe",
        "outputId": "033a3a39-a127-43f6-8e36-f7e63dcdf77a"
      },
      "source": [
        "# Calcula el IQR para 'temperature_c', 'fuel_price_usd_per_l', y 'unemployment'\n",
        "df[['temperature_c','fuel_price_usd_per_l','unemployment']].agg(iqr)"
      ],
      "execution_count": 17,
      "outputs": [
        {
          "output_type": "execute_result",
          "data": {
            "text/plain": [
              "temperature_c           16.583333\n",
              "fuel_price_usd_per_l     0.073176\n",
              "unemployment             0.565000\n",
              "dtype: float64"
            ]
          },
          "metadata": {},
          "execution_count": 17
        }
      ]
    },
    {
      "cell_type": "code",
      "metadata": {
        "colab": {
          "base_uri": "https://localhost:8080/",
          "height": 112
        },
        "id": "a76pSpOy9oPf",
        "outputId": "fedd950b-6500-4dbc-92df-f32a14d8becc"
      },
      "source": [
        "# Agrega el promedio al cálculo anterior\n",
        "# Para llamar una función de panda, se pone entre comillas.\n",
        "df[['temperature_c','fuel_price_usd_per_l','unemployment']].agg([iqr,'mean'])"
      ],
      "execution_count": 18,
      "outputs": [
        {
          "output_type": "execute_result",
          "data": {
            "text/html": [
              "<div>\n",
              "<style scoped>\n",
              "    .dataframe tbody tr th:only-of-type {\n",
              "        vertical-align: middle;\n",
              "    }\n",
              "\n",
              "    .dataframe tbody tr th {\n",
              "        vertical-align: top;\n",
              "    }\n",
              "\n",
              "    .dataframe thead th {\n",
              "        text-align: right;\n",
              "    }\n",
              "</style>\n",
              "<table border=\"1\" class=\"dataframe\">\n",
              "  <thead>\n",
              "    <tr style=\"text-align: right;\">\n",
              "      <th></th>\n",
              "      <th>temperature_c</th>\n",
              "      <th>fuel_price_usd_per_l</th>\n",
              "      <th>unemployment</th>\n",
              "    </tr>\n",
              "  </thead>\n",
              "  <tbody>\n",
              "    <tr>\n",
              "      <th>iqr</th>\n",
              "      <td>16.583333</td>\n",
              "      <td>0.073176</td>\n",
              "      <td>0.565000</td>\n",
              "    </tr>\n",
              "    <tr>\n",
              "      <th>mean</th>\n",
              "      <td>15.731978</td>\n",
              "      <td>0.749746</td>\n",
              "      <td>8.082009</td>\n",
              "    </tr>\n",
              "  </tbody>\n",
              "</table>\n",
              "</div>"
            ],
            "text/plain": [
              "      temperature_c  fuel_price_usd_per_l  unemployment\n",
              "iqr       16.583333              0.073176      0.565000\n",
              "mean      15.731978              0.749746      8.082009"
            ]
          },
          "metadata": {},
          "execution_count": 18
        }
      ]
    },
    {
      "cell_type": "code",
      "metadata": {
        "id": "XFYwPWfR9oPf"
      },
      "source": [
        "# Crea un nuevo DataFrame que contenga las ventas de la tienda 1 y el departamento 1\n",
        "sales_1_1 = df[(df['store']==1) & (df['department']==1)]"
      ],
      "execution_count": 21,
      "outputs": []
    },
    {
      "cell_type": "code",
      "metadata": {
        "colab": {
          "base_uri": "https://localhost:8080/"
        },
        "id": "w92oOYvO9oPg",
        "outputId": "846ffef7-66a6-4e20-cb16-24c57cfbaf73"
      },
      "source": [
        "# Ordena por fecha\n",
        "sales_1_1 = sales_1_1.sort_values('date')\n",
        "\n",
        "# Crea un nuevo campo calculando la venta acumulada semanal\n",
        "# Te da el acumulado de las weekly_sales\n",
        "sales_1_1['cum_weekly_sales'] = sales_1_1['weekly_sales'].cumsum()\n",
        "\n",
        "# Crea un nuevo campo campo calculado con la venta acumulada máxima\n",
        "sales_1_1['cum_max_sales'] = sales_1_1['weekly_sales'].cummax()\n",
        "\n",
        "# Vamos a ver los campos que acabas de crear\n",
        "print(sales_1_1[[\"date\", \"weekly_sales\", \"cum_weekly_sales\", \"cum_max_sales\"]])"
      ],
      "execution_count": 23,
      "outputs": [
        {
          "output_type": "stream",
          "name": "stdout",
          "text": [
            "         date  weekly_sales  cum_weekly_sales  cum_max_sales\n",
            "8  2018-01-10      20094.19          20094.19       20094.19\n",
            "2  2018-02-04      57258.43          77352.62       57258.43\n",
            "5  2018-02-07      16333.14          93685.76       57258.43\n",
            "7  2018-03-09      16241.78         109927.54       57258.43\n",
            "10 2018-03-12      22517.56         132445.10       57258.43\n",
            "4  2018-04-06      17558.09         150003.19       57258.43\n",
            "0  2018-05-02      24924.50         174927.69       57258.43\n",
            "1  2018-05-03      21827.90         196755.59       57258.43\n",
            "9  2018-05-11      34238.88         230994.47       57258.43\n",
            "6  2018-06-08      17508.41         248502.88       57258.43\n",
            "3  2018-07-05      17413.94         265916.82       57258.43\n",
            "11 2019-07-01      15984.24         281901.06       57258.43\n"
          ]
        }
      ]
    },
    {
      "cell_type": "markdown",
      "metadata": {
        "id": "Jn93mw4e9oPh"
      },
      "source": [
        "## Eliminando duplicados de un DataFrame\n",
        "<p>Eliminar duplicados es una habilidad esencial para obtener análisis precisos porque, a menudo, no deseamos tener valores repetidos dentro de nuestros cálculos.</p>"
      ]
    },
    {
      "cell_type": "code",
      "metadata": {
        "colab": {
          "base_uri": "https://localhost:8080/",
          "height": 799
        },
        "id": "sYxqqvMc9oPh",
        "outputId": "2d201ce8-1fb7-4399-93fa-34c165b5a769"
      },
      "source": [
        "# Elimina los duplicados de las combinaciones store/type\n",
        "store_types = df.drop_duplicates(subset=['store','type'])\n",
        "\n",
        "# Resultado\n",
        "store_types.head(15)"
      ],
      "execution_count": 24,
      "outputs": [
        {
          "output_type": "execute_result",
          "data": {
            "text/html": [
              "<div>\n",
              "<style scoped>\n",
              "    .dataframe tbody tr th:only-of-type {\n",
              "        vertical-align: middle;\n",
              "    }\n",
              "\n",
              "    .dataframe tbody tr th {\n",
              "        vertical-align: top;\n",
              "    }\n",
              "\n",
              "    .dataframe thead th {\n",
              "        text-align: right;\n",
              "    }\n",
              "</style>\n",
              "<table border=\"1\" class=\"dataframe\">\n",
              "  <thead>\n",
              "    <tr style=\"text-align: right;\">\n",
              "      <th></th>\n",
              "      <th>store</th>\n",
              "      <th>type</th>\n",
              "      <th>department</th>\n",
              "      <th>date</th>\n",
              "      <th>weekly_sales</th>\n",
              "      <th>is_holiday</th>\n",
              "      <th>temperature_c</th>\n",
              "      <th>fuel_price_usd_per_l</th>\n",
              "      <th>unemployment</th>\n",
              "    </tr>\n",
              "  </thead>\n",
              "  <tbody>\n",
              "    <tr>\n",
              "      <th>0</th>\n",
              "      <td>1</td>\n",
              "      <td>A</td>\n",
              "      <td>1</td>\n",
              "      <td>2018-05-02</td>\n",
              "      <td>24924.50</td>\n",
              "      <td>False</td>\n",
              "      <td>5.727778</td>\n",
              "      <td>0.679451</td>\n",
              "      <td>8.106</td>\n",
              "    </tr>\n",
              "    <tr>\n",
              "      <th>1</th>\n",
              "      <td>1</td>\n",
              "      <td>C</td>\n",
              "      <td>1</td>\n",
              "      <td>2018-05-03</td>\n",
              "      <td>21827.90</td>\n",
              "      <td>False</td>\n",
              "      <td>8.055556</td>\n",
              "      <td>0.693452</td>\n",
              "      <td>8.106</td>\n",
              "    </tr>\n",
              "    <tr>\n",
              "      <th>901</th>\n",
              "      <td>2</td>\n",
              "      <td>A</td>\n",
              "      <td>1</td>\n",
              "      <td>2018-05-02</td>\n",
              "      <td>35034.06</td>\n",
              "      <td>False</td>\n",
              "      <td>4.550000</td>\n",
              "      <td>0.679451</td>\n",
              "      <td>8.324</td>\n",
              "    </tr>\n",
              "    <tr>\n",
              "      <th>914</th>\n",
              "      <td>2</td>\n",
              "      <td>C</td>\n",
              "      <td>2</td>\n",
              "      <td>2018-05-03</td>\n",
              "      <td>68428.64</td>\n",
              "      <td>False</td>\n",
              "      <td>8.427778</td>\n",
              "      <td>0.693452</td>\n",
              "      <td>8.324</td>\n",
              "    </tr>\n",
              "    <tr>\n",
              "      <th>1798</th>\n",
              "      <td>4</td>\n",
              "      <td>A</td>\n",
              "      <td>1</td>\n",
              "      <td>2018-05-02</td>\n",
              "      <td>38724.42</td>\n",
              "      <td>False</td>\n",
              "      <td>6.533333</td>\n",
              "      <td>0.686319</td>\n",
              "      <td>8.623</td>\n",
              "    </tr>\n",
              "    <tr>\n",
              "      <th>2681</th>\n",
              "      <td>4</td>\n",
              "      <td>C</td>\n",
              "      <td>98</td>\n",
              "      <td>2018-02-07</td>\n",
              "      <td>13089.72</td>\n",
              "      <td>False</td>\n",
              "      <td>23.144444</td>\n",
              "      <td>0.704811</td>\n",
              "      <td>7.372</td>\n",
              "    </tr>\n",
              "    <tr>\n",
              "      <th>2699</th>\n",
              "      <td>6</td>\n",
              "      <td>A</td>\n",
              "      <td>1</td>\n",
              "      <td>2018-05-02</td>\n",
              "      <td>25619.00</td>\n",
              "      <td>False</td>\n",
              "      <td>4.683333</td>\n",
              "      <td>0.679451</td>\n",
              "      <td>7.259</td>\n",
              "    </tr>\n",
              "    <tr>\n",
              "      <th>2886</th>\n",
              "      <td>6</td>\n",
              "      <td>C</td>\n",
              "      <td>17</td>\n",
              "      <td>2018-03-09</td>\n",
              "      <td>16640.20</td>\n",
              "      <td>False</td>\n",
              "      <td>27.861111</td>\n",
              "      <td>0.680772</td>\n",
              "      <td>6.973</td>\n",
              "    </tr>\n",
              "    <tr>\n",
              "      <th>3593</th>\n",
              "      <td>10</td>\n",
              "      <td>B</td>\n",
              "      <td>1</td>\n",
              "      <td>2018-05-02</td>\n",
              "      <td>40212.84</td>\n",
              "      <td>False</td>\n",
              "      <td>12.411111</td>\n",
              "      <td>0.782478</td>\n",
              "      <td>9.765</td>\n",
              "    </tr>\n",
              "    <tr>\n",
              "      <th>4495</th>\n",
              "      <td>13</td>\n",
              "      <td>A</td>\n",
              "      <td>1</td>\n",
              "      <td>2018-05-02</td>\n",
              "      <td>46761.90</td>\n",
              "      <td>False</td>\n",
              "      <td>-0.261111</td>\n",
              "      <td>0.704283</td>\n",
              "      <td>8.316</td>\n",
              "    </tr>\n",
              "    <tr>\n",
              "      <th>5130</th>\n",
              "      <td>13</td>\n",
              "      <td>C</td>\n",
              "      <td>59</td>\n",
              "      <td>2018-02-07</td>\n",
              "      <td>819.97</td>\n",
              "      <td>False</td>\n",
              "      <td>26.011111</td>\n",
              "      <td>0.743381</td>\n",
              "      <td>7.951</td>\n",
              "    </tr>\n",
              "    <tr>\n",
              "      <th>5408</th>\n",
              "      <td>14</td>\n",
              "      <td>A</td>\n",
              "      <td>1</td>\n",
              "      <td>2018-05-02</td>\n",
              "      <td>32842.31</td>\n",
              "      <td>False</td>\n",
              "      <td>-2.605556</td>\n",
              "      <td>0.735455</td>\n",
              "      <td>8.992</td>\n",
              "    </tr>\n",
              "    <tr>\n",
              "      <th>6095</th>\n",
              "      <td>14</td>\n",
              "      <td>C</td>\n",
              "      <td>79</td>\n",
              "      <td>2018-02-04</td>\n",
              "      <td>46514.04</td>\n",
              "      <td>False</td>\n",
              "      <td>8.744444</td>\n",
              "      <td>0.752891</td>\n",
              "      <td>8.899</td>\n",
              "    </tr>\n",
              "    <tr>\n",
              "      <th>6293</th>\n",
              "      <td>19</td>\n",
              "      <td>A</td>\n",
              "      <td>1</td>\n",
              "      <td>2018-05-02</td>\n",
              "      <td>21500.58</td>\n",
              "      <td>False</td>\n",
              "      <td>-6.133333</td>\n",
              "      <td>0.780365</td>\n",
              "      <td>8.350</td>\n",
              "    </tr>\n",
              "    <tr>\n",
              "      <th>7090</th>\n",
              "      <td>19</td>\n",
              "      <td>C</td>\n",
              "      <td>90</td>\n",
              "      <td>2018-03-12</td>\n",
              "      <td>66320.98</td>\n",
              "      <td>False</td>\n",
              "      <td>2.577778</td>\n",
              "      <td>0.845351</td>\n",
              "      <td>8.067</td>\n",
              "    </tr>\n",
              "  </tbody>\n",
              "</table>\n",
              "</div>"
            ],
            "text/plain": [
              "      store type  department  ... temperature_c  fuel_price_usd_per_l  unemployment\n",
              "0         1    A           1  ...      5.727778              0.679451         8.106\n",
              "1         1    C           1  ...      8.055556              0.693452         8.106\n",
              "901       2    A           1  ...      4.550000              0.679451         8.324\n",
              "914       2    C           2  ...      8.427778              0.693452         8.324\n",
              "1798      4    A           1  ...      6.533333              0.686319         8.623\n",
              "2681      4    C          98  ...     23.144444              0.704811         7.372\n",
              "2699      6    A           1  ...      4.683333              0.679451         7.259\n",
              "2886      6    C          17  ...     27.861111              0.680772         6.973\n",
              "3593     10    B           1  ...     12.411111              0.782478         9.765\n",
              "4495     13    A           1  ...     -0.261111              0.704283         8.316\n",
              "5130     13    C          59  ...     26.011111              0.743381         7.951\n",
              "5408     14    A           1  ...     -2.605556              0.735455         8.992\n",
              "6095     14    C          79  ...      8.744444              0.752891         8.899\n",
              "6293     19    A           1  ...     -6.133333              0.780365         8.350\n",
              "7090     19    C          90  ...      2.577778              0.845351         8.067\n",
              "\n",
              "[15 rows x 9 columns]"
            ]
          },
          "metadata": {},
          "execution_count": 24
        }
      ]
    },
    {
      "cell_type": "code",
      "metadata": {
        "colab": {
          "base_uri": "https://localhost:8080/",
          "height": 313
        },
        "id": "0YXgLTc_9oPh",
        "outputId": "17742159-0fe3-46f9-ecf3-8b60d098d4d2"
      },
      "source": [
        "# Elimina los duplicados de las combinaciones store/department y ordena por venta semanal\n",
        "store_depts =  df.drop_duplicates(subset=['store','department']).sort_values('weekly_sales')\n",
        "\n",
        "# Resultado\n",
        "store_depts.head()"
      ],
      "execution_count": 25,
      "outputs": [
        {
          "output_type": "execute_result",
          "data": {
            "text/html": [
              "<div>\n",
              "<style scoped>\n",
              "    .dataframe tbody tr th:only-of-type {\n",
              "        vertical-align: middle;\n",
              "    }\n",
              "\n",
              "    .dataframe tbody tr th {\n",
              "        vertical-align: top;\n",
              "    }\n",
              "\n",
              "    .dataframe thead th {\n",
              "        text-align: right;\n",
              "    }\n",
              "</style>\n",
              "<table border=\"1\" class=\"dataframe\">\n",
              "  <thead>\n",
              "    <tr style=\"text-align: right;\">\n",
              "      <th></th>\n",
              "      <th>store</th>\n",
              "      <th>type</th>\n",
              "      <th>department</th>\n",
              "      <th>date</th>\n",
              "      <th>weekly_sales</th>\n",
              "      <th>is_holiday</th>\n",
              "      <th>temperature_c</th>\n",
              "      <th>fuel_price_usd_per_l</th>\n",
              "      <th>unemployment</th>\n",
              "    </tr>\n",
              "  </thead>\n",
              "  <tbody>\n",
              "    <tr>\n",
              "      <th>6806</th>\n",
              "      <td>19</td>\n",
              "      <td>A</td>\n",
              "      <td>47</td>\n",
              "      <td>2018-04-06</td>\n",
              "      <td>-70.00</td>\n",
              "      <td>False</td>\n",
              "      <td>20.488889</td>\n",
              "      <td>0.794102</td>\n",
              "      <td>8.185</td>\n",
              "    </tr>\n",
              "    <tr>\n",
              "      <th>3215</th>\n",
              "      <td>6</td>\n",
              "      <td>A</td>\n",
              "      <td>47</td>\n",
              "      <td>2018-05-02</td>\n",
              "      <td>-59.00</td>\n",
              "      <td>False</td>\n",
              "      <td>4.683333</td>\n",
              "      <td>0.679451</td>\n",
              "      <td>7.259</td>\n",
              "    </tr>\n",
              "    <tr>\n",
              "      <th>7900</th>\n",
              "      <td>20</td>\n",
              "      <td>A</td>\n",
              "      <td>77</td>\n",
              "      <td>2019-04-15</td>\n",
              "      <td>-29.97</td>\n",
              "      <td>False</td>\n",
              "      <td>12.777778</td>\n",
              "      <td>1.009402</td>\n",
              "      <td>7.287</td>\n",
              "    </tr>\n",
              "    <tr>\n",
              "      <th>9691</th>\n",
              "      <td>31</td>\n",
              "      <td>A</td>\n",
              "      <td>78</td>\n",
              "      <td>2018-05-02</td>\n",
              "      <td>-12.00</td>\n",
              "      <td>False</td>\n",
              "      <td>3.916667</td>\n",
              "      <td>0.679451</td>\n",
              "      <td>8.324</td>\n",
              "    </tr>\n",
              "    <tr>\n",
              "      <th>10103</th>\n",
              "      <td>39</td>\n",
              "      <td>A</td>\n",
              "      <td>19</td>\n",
              "      <td>2018-05-14</td>\n",
              "      <td>-11.00</td>\n",
              "      <td>False</td>\n",
              "      <td>25.272222</td>\n",
              "      <td>0.753947</td>\n",
              "      <td>8.464</td>\n",
              "    </tr>\n",
              "  </tbody>\n",
              "</table>\n",
              "</div>"
            ],
            "text/plain": [
              "       store type  ...  fuel_price_usd_per_l unemployment\n",
              "6806      19    A  ...              0.794102        8.185\n",
              "3215       6    A  ...              0.679451        7.259\n",
              "7900      20    A  ...              1.009402        7.287\n",
              "9691      31    A  ...              0.679451        8.324\n",
              "10103     39    A  ...              0.753947        8.464\n",
              "\n",
              "[5 rows x 9 columns]"
            ]
          },
          "metadata": {},
          "execution_count": 25
        }
      ]
    },
    {
      "cell_type": "code",
      "metadata": {
        "colab": {
          "base_uri": "https://localhost:8080/",
          "height": 313
        },
        "id": "oFMsH1Yd9oPi",
        "outputId": "09032ce1-9333-45e7-e5f4-f8f8473b30ca"
      },
      "source": [
        "# Filtra las filas en donde las ventas hayan sido en días festivos ('is_holiday') y borra los duplicados de las fechas\n",
        "holiday_dates = df[df['is_holiday']==True].drop_duplicates('date')\n",
        "\n",
        "# Resultado\n",
        "holiday_dates.head()"
      ],
      "execution_count": 26,
      "outputs": [
        {
          "output_type": "execute_result",
          "data": {
            "text/html": [
              "<div>\n",
              "<style scoped>\n",
              "    .dataframe tbody tr th:only-of-type {\n",
              "        vertical-align: middle;\n",
              "    }\n",
              "\n",
              "    .dataframe tbody tr th {\n",
              "        vertical-align: top;\n",
              "    }\n",
              "\n",
              "    .dataframe thead th {\n",
              "        text-align: right;\n",
              "    }\n",
              "</style>\n",
              "<table border=\"1\" class=\"dataframe\">\n",
              "  <thead>\n",
              "    <tr style=\"text-align: right;\">\n",
              "      <th></th>\n",
              "      <th>store</th>\n",
              "      <th>type</th>\n",
              "      <th>department</th>\n",
              "      <th>date</th>\n",
              "      <th>weekly_sales</th>\n",
              "      <th>is_holiday</th>\n",
              "      <th>temperature_c</th>\n",
              "      <th>fuel_price_usd_per_l</th>\n",
              "      <th>unemployment</th>\n",
              "    </tr>\n",
              "  </thead>\n",
              "  <tbody>\n",
              "    <tr>\n",
              "      <th>498</th>\n",
              "      <td>1</td>\n",
              "      <td>A</td>\n",
              "      <td>45</td>\n",
              "      <td>2018-10-09</td>\n",
              "      <td>11.47</td>\n",
              "      <td>True</td>\n",
              "      <td>25.938889</td>\n",
              "      <td>0.677602</td>\n",
              "      <td>7.787</td>\n",
              "    </tr>\n",
              "    <tr>\n",
              "      <th>691</th>\n",
              "      <td>1</td>\n",
              "      <td>A</td>\n",
              "      <td>77</td>\n",
              "      <td>2019-11-25</td>\n",
              "      <td>1431.00</td>\n",
              "      <td>True</td>\n",
              "      <td>15.633333</td>\n",
              "      <td>0.854861</td>\n",
              "      <td>7.866</td>\n",
              "    </tr>\n",
              "    <tr>\n",
              "      <th>2315</th>\n",
              "      <td>4</td>\n",
              "      <td>A</td>\n",
              "      <td>47</td>\n",
              "      <td>2018-12-02</td>\n",
              "      <td>498.00</td>\n",
              "      <td>True</td>\n",
              "      <td>-1.755556</td>\n",
              "      <td>0.679715</td>\n",
              "      <td>8.623</td>\n",
              "    </tr>\n",
              "    <tr>\n",
              "      <th>6735</th>\n",
              "      <td>19</td>\n",
              "      <td>A</td>\n",
              "      <td>39</td>\n",
              "      <td>2020-07-09</td>\n",
              "      <td>13.41</td>\n",
              "      <td>True</td>\n",
              "      <td>22.333333</td>\n",
              "      <td>1.076766</td>\n",
              "      <td>8.193</td>\n",
              "    </tr>\n",
              "    <tr>\n",
              "      <th>6810</th>\n",
              "      <td>19</td>\n",
              "      <td>A</td>\n",
              "      <td>47</td>\n",
              "      <td>2018-12-31</td>\n",
              "      <td>-449.00</td>\n",
              "      <td>True</td>\n",
              "      <td>-1.861111</td>\n",
              "      <td>0.881278</td>\n",
              "      <td>8.067</td>\n",
              "    </tr>\n",
              "  </tbody>\n",
              "</table>\n",
              "</div>"
            ],
            "text/plain": [
              "      store type  department  ... temperature_c  fuel_price_usd_per_l  unemployment\n",
              "498       1    A          45  ...     25.938889              0.677602         7.787\n",
              "691       1    A          77  ...     15.633333              0.854861         7.866\n",
              "2315      4    A          47  ...     -1.755556              0.679715         8.623\n",
              "6735     19    A          39  ...     22.333333              1.076766         8.193\n",
              "6810     19    A          47  ...     -1.861111              0.881278         8.067\n",
              "\n",
              "[5 rows x 9 columns]"
            ]
          },
          "metadata": {},
          "execution_count": 26
        }
      ]
    },
    {
      "cell_type": "markdown",
      "metadata": {
        "id": "QBOKBPPb9oPi"
      },
      "source": [
        "## Conteo y proporción\n",
        "<p>Contar es una excelente manera de obtener una descripción general de nuestro conjunto datos y poder analizar sobre todo nuestras categorías top o en su defecto las que menor proporción tienen con respecto una variable</p>"
      ]
    },
    {
      "cell_type": "code",
      "metadata": {
        "colab": {
          "base_uri": "https://localhost:8080/"
        },
        "id": "lhpZE3gQ9oPj",
        "outputId": "f7d73222-c8e3-4291-c499-a201f5451ed7"
      },
      "source": [
        "# Contar el número de cada tipo de tiedas\n",
        "df['type'].value_counts()"
      ],
      "execution_count": 27,
      "outputs": [
        {
          "output_type": "execute_result",
          "data": {
            "text/plain": [
              "A    9766\n",
              "B     902\n",
              "C     106\n",
              "Name: type, dtype: int64"
            ]
          },
          "metadata": {},
          "execution_count": 27
        }
      ]
    },
    {
      "cell_type": "code",
      "metadata": {
        "colab": {
          "base_uri": "https://localhost:8080/"
        },
        "id": "W2-9K6Lb9oPj",
        "outputId": "0d468e4a-f967-450f-aad2-d48e4fec3531"
      },
      "source": [
        "# Dar la proporcion del cálculo anterior (porcentaje)\n",
        "round(df['type'].value_counts(normalize=True)*100,2)\n"
      ],
      "execution_count": 30,
      "outputs": [
        {
          "output_type": "execute_result",
          "data": {
            "text/plain": [
              "A    90.64\n",
              "B     8.37\n",
              "C     0.98\n",
              "Name: type, dtype: float64"
            ]
          },
          "metadata": {},
          "execution_count": 30
        }
      ]
    },
    {
      "cell_type": "code",
      "metadata": {
        "colab": {
          "base_uri": "https://localhost:8080/"
        },
        "id": "Ely1fMhm9oPj",
        "outputId": "405f7698-5e89-405b-f011-f19c4759a36d"
      },
      "source": [
        "# Contar por tienda y ordenar el resultado (potcentaje)\n",
        "df['store'].value_counts(normalize=True, sort=True)*100\n"
      ],
      "execution_count": 32,
      "outputs": [
        {
          "output_type": "execute_result",
          "data": {
            "text/plain": [
              "13    8.474104\n",
              "20    8.446260\n",
              "19    8.409133\n",
              "10    8.372007\n",
              "4     8.362725\n",
              "1     8.362725\n",
              "27    8.353443\n",
              "2     8.325599\n",
              "6     8.297754\n",
              "31    8.260627\n",
              "14    8.214219\n",
              "39    8.121403\n",
              "Name: store, dtype: float64"
            ]
          },
          "metadata": {},
          "execution_count": 32
        }
      ]
    },
    {
      "cell_type": "code",
      "metadata": {
        "colab": {
          "base_uri": "https://localhost:8080/"
        },
        "id": "sU3GSHgu9oPk",
        "outputId": "0f5a4d77-ef24-4e9d-c764-3aeaf5ec5008"
      },
      "source": [
        "# Dar la proporción ordenada del cálculo anterior\n",
        "df['store'].value_counts(normalize=True, sort=True)\n"
      ],
      "execution_count": 33,
      "outputs": [
        {
          "output_type": "execute_result",
          "data": {
            "text/plain": [
              "13    0.084741\n",
              "20    0.084463\n",
              "19    0.084091\n",
              "10    0.083720\n",
              "4     0.083627\n",
              "1     0.083627\n",
              "27    0.083534\n",
              "2     0.083256\n",
              "6     0.082978\n",
              "31    0.082606\n",
              "14    0.082142\n",
              "39    0.081214\n",
              "Name: store, dtype: float64"
            ]
          },
          "metadata": {},
          "execution_count": 33
        }
      ]
    },
    {
      "cell_type": "markdown",
      "metadata": {
        "id": "U3GDDAsl9oPk"
      },
      "source": [
        "## Porcentaje de ventas\n",
        "<p>Walmart distingue tres tipos de tiendas: \"supercenters\", \"discount stores\" y \"neighborhood markets\", codificados en este conjunto de datos como tipo \"A\", \"B\" y \"C\". En este ejercicio, vamos a calcular las ventas totales realizadas en cada tipo de tienda, sin utilizar <code>.groupby()</code>.</p>"
      ]
    },
    {
      "cell_type": "code",
      "metadata": {
        "colab": {
          "base_uri": "https://localhost:8080/"
        },
        "id": "PeHP7wqY9oPk",
        "outputId": "720d45da-a0b8-4647-edcc-6653ed69df20"
      },
      "source": [
        "# Calcular el total de ventas semanales\n",
        "sales_all = df['weekly_sales'].sum()\n",
        "\n",
        "# Calcular las ventas semanales para supercenters\n",
        "sales_A = df[df[\"type\"] == \"A\"][\"weekly_sales\"].sum()\n",
        "\n",
        "# Calcular las ventas semanales para discount stores (minoristas)\n",
        "sales_B = df[df[\"type\"] == \"B\"][\"weekly_sales\"].sum()\n",
        "\n",
        "\n",
        "# Calcular las ventas semanales para neighborhood markets\n",
        "sales_C = df[df[\"type\"] == \"C\"][\"weekly_sales\"].sum()\n",
        "\n",
        "\n",
        "# Calcular la proporción de venta por tipo de tienda\n",
        "prop = [sales_A, sales_B, sales_C]/sales_all*100\n",
        "prop.round(2)\n"
      ],
      "execution_count": 35,
      "outputs": [
        {
          "output_type": "execute_result",
          "data": {
            "text/plain": [
              "array([89.97,  9.02,  1.  ])"
            ]
          },
          "metadata": {},
          "execution_count": 35
        }
      ]
    },
    {
      "cell_type": "markdown",
      "metadata": {
        "id": "BPqk3Qr39oPk"
      },
      "source": [
        "## Group by\n",
        "<p> Podemos ahorrarnos mucho código usando el método <code>.groupby</code> como veremos a continuación</p>"
      ]
    },
    {
      "cell_type": "code",
      "metadata": {
        "colab": {
          "base_uri": "https://localhost:8080/"
        },
        "id": "hOyMdJv49oPl",
        "outputId": "74cc9675-5ef2-4789-da53-c34c04c15754"
      },
      "source": [
        "# Calcular las ventas por tipo de tienda usando .groupby()\n",
        "sales_by_type = df.groupby(\"type\")[\"weekly_sales\"].sum()\n",
        "\n",
        "# Calcular la proporción\n",
        "sales_propn_by_type = sales_by_type/sales_all\n",
        "\n",
        "# Resultado\n",
        "sales_propn_by_type"
      ],
      "execution_count": 36,
      "outputs": [
        {
          "output_type": "execute_result",
          "data": {
            "text/plain": [
              "type\n",
              "A    0.899738\n",
              "B    0.090225\n",
              "C    0.010036\n",
              "Name: weekly_sales, dtype: float64"
            ]
          },
          "metadata": {},
          "execution_count": 36
        }
      ]
    },
    {
      "cell_type": "code",
      "metadata": {
        "colab": {
          "base_uri": "https://localhost:8080/",
          "height": 175
        },
        "id": "QNX56P-09oPl",
        "outputId": "3c52c1eb-c837-4e6a-8013-1b5570a7f8aa"
      },
      "source": [
        "# Para cada tipo de tienda calcular la venta nínima, máxima, el promedio y la media (Usar las funciones NumPy)\n",
        "r = df.groupby('type')['weekly_sales'].agg([np.min,np.max,np.mean])\n",
        "\n",
        "# Resultado: negativos = devoluciones\n",
        "r"
      ],
      "execution_count": 37,
      "outputs": [
        {
          "output_type": "execute_result",
          "data": {
            "text/html": [
              "<div>\n",
              "<style scoped>\n",
              "    .dataframe tbody tr th:only-of-type {\n",
              "        vertical-align: middle;\n",
              "    }\n",
              "\n",
              "    .dataframe tbody tr th {\n",
              "        vertical-align: top;\n",
              "    }\n",
              "\n",
              "    .dataframe thead th {\n",
              "        text-align: right;\n",
              "    }\n",
              "</style>\n",
              "<table border=\"1\" class=\"dataframe\">\n",
              "  <thead>\n",
              "    <tr style=\"text-align: right;\">\n",
              "      <th></th>\n",
              "      <th>amin</th>\n",
              "      <th>amax</th>\n",
              "      <th>mean</th>\n",
              "    </tr>\n",
              "    <tr>\n",
              "      <th>type</th>\n",
              "      <th></th>\n",
              "      <th></th>\n",
              "      <th></th>\n",
              "    </tr>\n",
              "  </thead>\n",
              "  <tbody>\n",
              "    <tr>\n",
              "      <th>A</th>\n",
              "      <td>-1098.00</td>\n",
              "      <td>293966.05</td>\n",
              "      <td>23667.624573</td>\n",
              "    </tr>\n",
              "    <tr>\n",
              "      <th>B</th>\n",
              "      <td>-798.00</td>\n",
              "      <td>232558.51</td>\n",
              "      <td>25696.678370</td>\n",
              "    </tr>\n",
              "    <tr>\n",
              "      <th>C</th>\n",
              "      <td>0.01</td>\n",
              "      <td>104161.40</td>\n",
              "      <td>24323.522925</td>\n",
              "    </tr>\n",
              "  </tbody>\n",
              "</table>\n",
              "</div>"
            ],
            "text/plain": [
              "         amin       amax          mean\n",
              "type                                  \n",
              "A    -1098.00  293966.05  23667.624573\n",
              "B     -798.00  232558.51  25696.678370\n",
              "C        0.01  104161.40  24323.522925"
            ]
          },
          "metadata": {},
          "execution_count": 37
        }
      ]
    },
    {
      "cell_type": "code",
      "metadata": {
        "colab": {
          "base_uri": "https://localhost:8080/",
          "height": 261
        },
        "id": "FwVeNp9b9oPm",
        "outputId": "12d448fb-01a3-4e4f-ebfb-52e6dd7096ae"
      },
      "source": [
        "# Para cada tipo de tienda, agrega los campos 'unemployment' y 'fuel_price_usd_per_l' y calcula el min, max, promedio y mediana\n",
        "#Vaciar variable\n",
        "r = None\n",
        "r = df.groupby('type')['weekly_sales','unemployment','fuel_price_usd_per_l'].agg([np.min,np.max,np.mean])\n",
        "\n",
        "# Resultado\n",
        "r"
      ],
      "execution_count": 39,
      "outputs": [
        {
          "output_type": "stream",
          "name": "stderr",
          "text": [
            "/usr/local/lib/python3.7/dist-packages/ipykernel_launcher.py:2: FutureWarning: Indexing with multiple keys (implicitly converted to a tuple of keys) will be deprecated, use a list instead.\n",
            "  \n"
          ]
        },
        {
          "output_type": "execute_result",
          "data": {
            "text/html": [
              "<div>\n",
              "<style scoped>\n",
              "    .dataframe tbody tr th:only-of-type {\n",
              "        vertical-align: middle;\n",
              "    }\n",
              "\n",
              "    .dataframe tbody tr th {\n",
              "        vertical-align: top;\n",
              "    }\n",
              "\n",
              "    .dataframe thead tr th {\n",
              "        text-align: left;\n",
              "    }\n",
              "\n",
              "    .dataframe thead tr:last-of-type th {\n",
              "        text-align: right;\n",
              "    }\n",
              "</style>\n",
              "<table border=\"1\" class=\"dataframe\">\n",
              "  <thead>\n",
              "    <tr>\n",
              "      <th></th>\n",
              "      <th colspan=\"3\" halign=\"left\">weekly_sales</th>\n",
              "      <th colspan=\"3\" halign=\"left\">unemployment</th>\n",
              "      <th colspan=\"3\" halign=\"left\">fuel_price_usd_per_l</th>\n",
              "    </tr>\n",
              "    <tr>\n",
              "      <th></th>\n",
              "      <th>amin</th>\n",
              "      <th>amax</th>\n",
              "      <th>mean</th>\n",
              "      <th>amin</th>\n",
              "      <th>amax</th>\n",
              "      <th>mean</th>\n",
              "      <th>amin</th>\n",
              "      <th>amax</th>\n",
              "      <th>mean</th>\n",
              "    </tr>\n",
              "    <tr>\n",
              "      <th>type</th>\n",
              "      <th></th>\n",
              "      <th></th>\n",
              "      <th></th>\n",
              "      <th></th>\n",
              "      <th></th>\n",
              "      <th></th>\n",
              "      <th></th>\n",
              "      <th></th>\n",
              "      <th></th>\n",
              "    </tr>\n",
              "  </thead>\n",
              "  <tbody>\n",
              "    <tr>\n",
              "      <th>A</th>\n",
              "      <td>-1098.00</td>\n",
              "      <td>293966.05</td>\n",
              "      <td>23667.624573</td>\n",
              "      <td>3.879</td>\n",
              "      <td>8.992</td>\n",
              "      <td>7.974131</td>\n",
              "      <td>0.670997</td>\n",
              "      <td>1.107410</td>\n",
              "      <td>0.744943</td>\n",
              "    </tr>\n",
              "    <tr>\n",
              "      <th>B</th>\n",
              "      <td>-798.00</td>\n",
              "      <td>232558.51</td>\n",
              "      <td>25696.678370</td>\n",
              "      <td>7.170</td>\n",
              "      <td>9.765</td>\n",
              "      <td>9.279323</td>\n",
              "      <td>0.760023</td>\n",
              "      <td>1.107674</td>\n",
              "      <td>0.805858</td>\n",
              "    </tr>\n",
              "    <tr>\n",
              "      <th>C</th>\n",
              "      <td>0.01</td>\n",
              "      <td>104161.40</td>\n",
              "      <td>24323.522925</td>\n",
              "      <td>6.858</td>\n",
              "      <td>8.899</td>\n",
              "      <td>7.832519</td>\n",
              "      <td>0.664129</td>\n",
              "      <td>0.921433</td>\n",
              "      <td>0.714793</td>\n",
              "    </tr>\n",
              "  </tbody>\n",
              "</table>\n",
              "</div>"
            ],
            "text/plain": [
              "     weekly_sales             ... fuel_price_usd_per_l          \n",
              "             amin       amax  ...                 amax      mean\n",
              "type                          ...                               \n",
              "A        -1098.00  293966.05  ...             1.107410  0.744943\n",
              "B         -798.00  232558.51  ...             1.107674  0.805858\n",
              "C            0.01  104161.40  ...             0.921433  0.714793\n",
              "\n",
              "[3 rows x 9 columns]"
            ]
          },
          "metadata": {},
          "execution_count": 39
        }
      ]
    },
    {
      "cell_type": "markdown",
      "metadata": {
        "id": "D92wjhBS9oPm"
      },
      "source": [
        "## Pivot Tables\n",
        "<p> Las tablas dinámicas son la forma estándar de agregar datos en hojas de cálculo. En pandas, las tablas dinámicas son esencialmente otra forma de realizar cálculos agrupados. Es decir, el método <code>.pivot_table()</code> es justamente una alternativa a <code>.groupby()</code>.</p>"
      ]
    },
    {
      "cell_type": "code",
      "metadata": {
        "colab": {
          "base_uri": "https://localhost:8080/",
          "height": 175
        },
        "id": "G9tuzQCY9oPm",
        "outputId": "63a7479c-dc82-4a9f-a647-10723f2387ac"
      },
      "source": [
        "# Calcular el promedio de ventas semanales por tipo de tienda con el metodo .pivot_table() \n",
        "pivot = df.pivot_table(values='weekly_sales', index='type',aggfunc=np.mean)\n",
        "\n",
        "# Resultado\n",
        "pivot"
      ],
      "execution_count": 40,
      "outputs": [
        {
          "output_type": "execute_result",
          "data": {
            "text/html": [
              "<div>\n",
              "<style scoped>\n",
              "    .dataframe tbody tr th:only-of-type {\n",
              "        vertical-align: middle;\n",
              "    }\n",
              "\n",
              "    .dataframe tbody tr th {\n",
              "        vertical-align: top;\n",
              "    }\n",
              "\n",
              "    .dataframe thead th {\n",
              "        text-align: right;\n",
              "    }\n",
              "</style>\n",
              "<table border=\"1\" class=\"dataframe\">\n",
              "  <thead>\n",
              "    <tr style=\"text-align: right;\">\n",
              "      <th></th>\n",
              "      <th>weekly_sales</th>\n",
              "    </tr>\n",
              "    <tr>\n",
              "      <th>type</th>\n",
              "      <th></th>\n",
              "    </tr>\n",
              "  </thead>\n",
              "  <tbody>\n",
              "    <tr>\n",
              "      <th>A</th>\n",
              "      <td>23667.624573</td>\n",
              "    </tr>\n",
              "    <tr>\n",
              "      <th>B</th>\n",
              "      <td>25696.678370</td>\n",
              "    </tr>\n",
              "    <tr>\n",
              "      <th>C</th>\n",
              "      <td>24323.522925</td>\n",
              "    </tr>\n",
              "  </tbody>\n",
              "</table>\n",
              "</div>"
            ],
            "text/plain": [
              "      weekly_sales\n",
              "type              \n",
              "A     23667.624573\n",
              "B     25696.678370\n",
              "C     24323.522925"
            ]
          },
          "metadata": {},
          "execution_count": 40
        }
      ]
    },
    {
      "cell_type": "code",
      "metadata": {
        "colab": {
          "base_uri": "https://localhost:8080/",
          "height": 206
        },
        "id": "X9GlxjvZ9oPn",
        "outputId": "732b8c8b-9a8f-460f-e5e3-93dd0f1a6f76"
      },
      "source": [
        "# Calcular el promedio y la mediana de ventas semanales por tipo de tienda \n",
        "pivot = df.pivot_table(values='weekly_sales', index='type',aggfunc=[np.mean,np.median])\n",
        "\n",
        "# Resultado\n",
        "pivot"
      ],
      "execution_count": 41,
      "outputs": [
        {
          "output_type": "execute_result",
          "data": {
            "text/html": [
              "<div>\n",
              "<style scoped>\n",
              "    .dataframe tbody tr th:only-of-type {\n",
              "        vertical-align: middle;\n",
              "    }\n",
              "\n",
              "    .dataframe tbody tr th {\n",
              "        vertical-align: top;\n",
              "    }\n",
              "\n",
              "    .dataframe thead tr th {\n",
              "        text-align: left;\n",
              "    }\n",
              "\n",
              "    .dataframe thead tr:last-of-type th {\n",
              "        text-align: right;\n",
              "    }\n",
              "</style>\n",
              "<table border=\"1\" class=\"dataframe\">\n",
              "  <thead>\n",
              "    <tr>\n",
              "      <th></th>\n",
              "      <th>mean</th>\n",
              "      <th>median</th>\n",
              "    </tr>\n",
              "    <tr>\n",
              "      <th></th>\n",
              "      <th>weekly_sales</th>\n",
              "      <th>weekly_sales</th>\n",
              "    </tr>\n",
              "    <tr>\n",
              "      <th>type</th>\n",
              "      <th></th>\n",
              "      <th></th>\n",
              "    </tr>\n",
              "  </thead>\n",
              "  <tbody>\n",
              "    <tr>\n",
              "      <th>A</th>\n",
              "      <td>23667.624573</td>\n",
              "      <td>11910.165</td>\n",
              "    </tr>\n",
              "    <tr>\n",
              "      <th>B</th>\n",
              "      <td>25696.678370</td>\n",
              "      <td>13336.080</td>\n",
              "    </tr>\n",
              "    <tr>\n",
              "      <th>C</th>\n",
              "      <td>24323.522925</td>\n",
              "      <td>16643.205</td>\n",
              "    </tr>\n",
              "  </tbody>\n",
              "</table>\n",
              "</div>"
            ],
            "text/plain": [
              "              mean       median\n",
              "      weekly_sales weekly_sales\n",
              "type                           \n",
              "A     23667.624573    11910.165\n",
              "B     25696.678370    13336.080\n",
              "C     24323.522925    16643.205"
            ]
          },
          "metadata": {},
          "execution_count": 41
        }
      ]
    },
    {
      "cell_type": "code",
      "metadata": {
        "colab": {
          "base_uri": "https://localhost:8080/",
          "height": 455
        },
        "id": "e9O8WOns9oPn",
        "outputId": "cfb4759a-9d8c-49e9-a805-5d520b8ce305"
      },
      "source": [
        "# Calcular el promedio de ventas semanales por tipo de tienda y departamento\n",
        "pivot = df.pivot_table(values='weekly_sales', index='department',aggfunc=np.mean, columns='type')\n",
        "\n",
        "# Resultado\n",
        "pivot"
      ],
      "execution_count": 44,
      "outputs": [
        {
          "output_type": "execute_result",
          "data": {
            "text/html": [
              "<div>\n",
              "<style scoped>\n",
              "    .dataframe tbody tr th:only-of-type {\n",
              "        vertical-align: middle;\n",
              "    }\n",
              "\n",
              "    .dataframe tbody tr th {\n",
              "        vertical-align: top;\n",
              "    }\n",
              "\n",
              "    .dataframe thead th {\n",
              "        text-align: right;\n",
              "    }\n",
              "</style>\n",
              "<table border=\"1\" class=\"dataframe\">\n",
              "  <thead>\n",
              "    <tr style=\"text-align: right;\">\n",
              "      <th>type</th>\n",
              "      <th>A</th>\n",
              "      <th>B</th>\n",
              "      <th>C</th>\n",
              "    </tr>\n",
              "    <tr>\n",
              "      <th>department</th>\n",
              "      <th></th>\n",
              "      <th></th>\n",
              "      <th></th>\n",
              "    </tr>\n",
              "  </thead>\n",
              "  <tbody>\n",
              "    <tr>\n",
              "      <th>1</th>\n",
              "      <td>31145.215923</td>\n",
              "      <td>44050.626667</td>\n",
              "      <td>19034.840000</td>\n",
              "    </tr>\n",
              "    <tr>\n",
              "      <th>2</th>\n",
              "      <td>67736.748231</td>\n",
              "      <td>112958.526667</td>\n",
              "      <td>58721.845000</td>\n",
              "    </tr>\n",
              "    <tr>\n",
              "      <th>3</th>\n",
              "      <td>17124.044538</td>\n",
              "      <td>30580.655000</td>\n",
              "      <td>19497.300000</td>\n",
              "    </tr>\n",
              "    <tr>\n",
              "      <th>4</th>\n",
              "      <td>44265.151679</td>\n",
              "      <td>51219.654167</td>\n",
              "      <td>46937.810000</td>\n",
              "    </tr>\n",
              "    <tr>\n",
              "      <th>5</th>\n",
              "      <td>34942.639618</td>\n",
              "      <td>63236.875000</td>\n",
              "      <td>18887.710000</td>\n",
              "    </tr>\n",
              "    <tr>\n",
              "      <th>...</th>\n",
              "      <td>...</td>\n",
              "      <td>...</td>\n",
              "      <td>...</td>\n",
              "    </tr>\n",
              "    <tr>\n",
              "      <th>95</th>\n",
              "      <td>124084.721374</td>\n",
              "      <td>77082.102500</td>\n",
              "      <td>104161.400000</td>\n",
              "    </tr>\n",
              "    <tr>\n",
              "      <th>96</th>\n",
              "      <td>21184.264918</td>\n",
              "      <td>9528.538333</td>\n",
              "      <td>26941.770000</td>\n",
              "    </tr>\n",
              "    <tr>\n",
              "      <th>97</th>\n",
              "      <td>28503.679612</td>\n",
              "      <td>5828.873333</td>\n",
              "      <td>27077.523333</td>\n",
              "    </tr>\n",
              "    <tr>\n",
              "      <th>98</th>\n",
              "      <td>12952.719843</td>\n",
              "      <td>217.428333</td>\n",
              "      <td>10912.088000</td>\n",
              "    </tr>\n",
              "    <tr>\n",
              "      <th>99</th>\n",
              "      <td>377.993388</td>\n",
              "      <td>NaN</td>\n",
              "      <td>447.505000</td>\n",
              "    </tr>\n",
              "  </tbody>\n",
              "</table>\n",
              "<p>80 rows × 3 columns</p>\n",
              "</div>"
            ],
            "text/plain": [
              "type                    A              B              C\n",
              "department                                             \n",
              "1            31145.215923   44050.626667   19034.840000\n",
              "2            67736.748231  112958.526667   58721.845000\n",
              "3            17124.044538   30580.655000   19497.300000\n",
              "4            44265.151679   51219.654167   46937.810000\n",
              "5            34942.639618   63236.875000   18887.710000\n",
              "...                   ...            ...            ...\n",
              "95          124084.721374   77082.102500  104161.400000\n",
              "96           21184.264918    9528.538333   26941.770000\n",
              "97           28503.679612    5828.873333   27077.523333\n",
              "98           12952.719843     217.428333   10912.088000\n",
              "99             377.993388            NaN     447.505000\n",
              "\n",
              "[80 rows x 3 columns]"
            ]
          },
          "metadata": {},
          "execution_count": 44
        }
      ]
    },
    {
      "cell_type": "code",
      "metadata": {
        "colab": {
          "base_uri": "https://localhost:8080/",
          "height": 455
        },
        "id": "qPaGkPLx9oPn",
        "outputId": "2c4b5e51-22d0-488e-d889-7508fba92bdd"
      },
      "source": [
        "# Calcular el promedio de ventas semanales por tipo de tienda y departamento, reemplazando los valores nulos con 0\n",
        "pivot = df.pivot_table(values='weekly_sales', index='department',aggfunc=np.mean, columns='type', fill_value=0)\n",
        "\n",
        "# Resultado\n",
        "pivot"
      ],
      "execution_count": 45,
      "outputs": [
        {
          "output_type": "execute_result",
          "data": {
            "text/html": [
              "<div>\n",
              "<style scoped>\n",
              "    .dataframe tbody tr th:only-of-type {\n",
              "        vertical-align: middle;\n",
              "    }\n",
              "\n",
              "    .dataframe tbody tr th {\n",
              "        vertical-align: top;\n",
              "    }\n",
              "\n",
              "    .dataframe thead th {\n",
              "        text-align: right;\n",
              "    }\n",
              "</style>\n",
              "<table border=\"1\" class=\"dataframe\">\n",
              "  <thead>\n",
              "    <tr style=\"text-align: right;\">\n",
              "      <th>type</th>\n",
              "      <th>A</th>\n",
              "      <th>B</th>\n",
              "      <th>C</th>\n",
              "    </tr>\n",
              "    <tr>\n",
              "      <th>department</th>\n",
              "      <th></th>\n",
              "      <th></th>\n",
              "      <th></th>\n",
              "    </tr>\n",
              "  </thead>\n",
              "  <tbody>\n",
              "    <tr>\n",
              "      <th>1</th>\n",
              "      <td>31145.215923</td>\n",
              "      <td>44050.626667</td>\n",
              "      <td>19034.840000</td>\n",
              "    </tr>\n",
              "    <tr>\n",
              "      <th>2</th>\n",
              "      <td>67736.748231</td>\n",
              "      <td>112958.526667</td>\n",
              "      <td>58721.845000</td>\n",
              "    </tr>\n",
              "    <tr>\n",
              "      <th>3</th>\n",
              "      <td>17124.044538</td>\n",
              "      <td>30580.655000</td>\n",
              "      <td>19497.300000</td>\n",
              "    </tr>\n",
              "    <tr>\n",
              "      <th>4</th>\n",
              "      <td>44265.151679</td>\n",
              "      <td>51219.654167</td>\n",
              "      <td>46937.810000</td>\n",
              "    </tr>\n",
              "    <tr>\n",
              "      <th>5</th>\n",
              "      <td>34942.639618</td>\n",
              "      <td>63236.875000</td>\n",
              "      <td>18887.710000</td>\n",
              "    </tr>\n",
              "    <tr>\n",
              "      <th>...</th>\n",
              "      <td>...</td>\n",
              "      <td>...</td>\n",
              "      <td>...</td>\n",
              "    </tr>\n",
              "    <tr>\n",
              "      <th>95</th>\n",
              "      <td>124084.721374</td>\n",
              "      <td>77082.102500</td>\n",
              "      <td>104161.400000</td>\n",
              "    </tr>\n",
              "    <tr>\n",
              "      <th>96</th>\n",
              "      <td>21184.264918</td>\n",
              "      <td>9528.538333</td>\n",
              "      <td>26941.770000</td>\n",
              "    </tr>\n",
              "    <tr>\n",
              "      <th>97</th>\n",
              "      <td>28503.679612</td>\n",
              "      <td>5828.873333</td>\n",
              "      <td>27077.523333</td>\n",
              "    </tr>\n",
              "    <tr>\n",
              "      <th>98</th>\n",
              "      <td>12952.719843</td>\n",
              "      <td>217.428333</td>\n",
              "      <td>10912.088000</td>\n",
              "    </tr>\n",
              "    <tr>\n",
              "      <th>99</th>\n",
              "      <td>377.993388</td>\n",
              "      <td>0.000000</td>\n",
              "      <td>447.505000</td>\n",
              "    </tr>\n",
              "  </tbody>\n",
              "</table>\n",
              "<p>80 rows × 3 columns</p>\n",
              "</div>"
            ],
            "text/plain": [
              "type                    A              B              C\n",
              "department                                             \n",
              "1            31145.215923   44050.626667   19034.840000\n",
              "2            67736.748231  112958.526667   58721.845000\n",
              "3            17124.044538   30580.655000   19497.300000\n",
              "4            44265.151679   51219.654167   46937.810000\n",
              "5            34942.639618   63236.875000   18887.710000\n",
              "...                   ...            ...            ...\n",
              "95          124084.721374   77082.102500  104161.400000\n",
              "96           21184.264918    9528.538333   26941.770000\n",
              "97           28503.679612    5828.873333   27077.523333\n",
              "98           12952.719843     217.428333   10912.088000\n",
              "99             377.993388       0.000000     447.505000\n",
              "\n",
              "[80 rows x 3 columns]"
            ]
          },
          "metadata": {},
          "execution_count": 45
        }
      ]
    },
    {
      "cell_type": "code",
      "metadata": {
        "id": "7uBjdxbK9oPn"
      },
      "source": [
        "# Calcular el promedio de ventas semanales por tipo de tienda y departamento, reemplazando los valores nulos con 0 y sumando las filas y columnas\n",
        "______\n",
        "\n",
        "# Resultado\n",
        "______"
      ],
      "execution_count": null,
      "outputs": []
    }
  ]
}